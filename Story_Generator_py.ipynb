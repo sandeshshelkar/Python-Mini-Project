{
  "nbformat": 4,
  "nbformat_minor": 0,
  "metadata": {
    "colab": {
      "name": "Story Generator.py",
      "provenance": []
    },
    "kernelspec": {
      "name": "python3",
      "display_name": "Python 3"
    },
    "language_info": {
      "name": "python"
    }
  },
  "cells": [
    {
      "cell_type": "code",
      "execution_count": 1,
      "metadata": {
        "id": "RycR_djBcqMh"
      },
      "outputs": [],
      "source": [
        "import random"
      ]
    },
    {
      "cell_type": "code",
      "source": [
        "when = ['A few years ago', 'Yesterday', 'Last night', 'A long time ago','On 20th Jan']\n",
        "who = ['Batman', 'Spidey', 'Iron Man', 'Superman','Hulk']"
      ],
      "metadata": {
        "id": "M2yA_0Ilc7UX"
      },
      "execution_count": 8,
      "outputs": []
    },
    {
      "cell_type": "code",
      "source": [
        "name = ['Ali', 'Miriam','daniel', 'Hoouk', 'Starwalker']\n",
        "residence = ['Barcelona','India', 'Germany', 'Venice', 'England']\n",
        "went = ['cinema', 'university','seminar', 'school', 'laundry']"
      ],
      "metadata": {
        "id": "Vlz2Ap-Bc7ak"
      },
      "execution_count": 3,
      "outputs": []
    },
    {
      "cell_type": "code",
      "source": [
        "happened = ['made a lot of friends','Eats a burger', 'found a secret key', 'solved a mistery', 'wrote a book']"
      ],
      "metadata": {
        "id": "lFIgZjBCdEE-"
      },
      "execution_count": 4,
      "outputs": []
    },
    {
      "cell_type": "code",
      "source": [
        "print(random.choice(when) + ', ' + random.choice(who) + ' that lived in ' + random.choice(residence) + ', went to the ' + random.choice(went) + ' and ' + random.choice(happened))"
      ],
      "metadata": {
        "colab": {
          "base_uri": "https://localhost:8080/"
        },
        "id": "R22AetYGdPQ9",
        "outputId": "25660cb6-d046-497f-ca5c-2cf75373f4f3"
      },
      "execution_count": 10,
      "outputs": [
        {
          "output_type": "stream",
          "name": "stdout",
          "text": [
            "On 20th Jan, Batman that lived in Barcelona, went to the laundry and made a lot of friends\n"
          ]
        }
      ]
    }
  ]
}